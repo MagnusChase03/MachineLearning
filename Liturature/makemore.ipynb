{
 "cells": [
  {
   "cell_type": "code",
   "execution_count": 8,
   "id": "8787ebb2",
   "metadata": {},
   "outputs": [],
   "source": [
    "import torch\n",
    "import torch.nn.functional as F"
   ]
  },
  {
   "cell_type": "code",
   "execution_count": 9,
   "id": "feaf1c25",
   "metadata": {},
   "outputs": [],
   "source": [
    "words = open(\"words.txt\", \"r\").read().splitlines()\n",
    "chars = sorted(set(\"\".join(words)))\n",
    "\n",
    "stoi = {s:i+1 for i, s in enumerate(chars)}\n",
    "stoi[\".\"] = 0\n",
    "\n",
    "itos = {i:s for s,i in stoi.items()}\n",
    "\n",
    "def encode(string):\n",
    "    return [stoi[x] for x in string]\n",
    "\n",
    "def decode(lst):\n",
    "    return [itos[x] for x in lst]"
   ]
  },
  {
   "cell_type": "code",
   "execution_count": 10,
   "id": "03723997",
   "metadata": {},
   "outputs": [],
   "source": [
    "inputSize = 3\n",
    "\n",
    "inputs = []\n",
    "outputs = []\n",
    "\n",
    "for w in words:\n",
    "    ch = [0 for i in range(0, inputSize - 1)] + encode(w) + [0]\n",
    "    for i in range(0, len(ch) - inputSize):\n",
    "        inputs.append(ch[i:i+3])\n",
    "        outputs.append(ch[i+3:i+4])\n",
    "    \n",
    "inputs = torch.tensor(inputs)\n",
    "outputs = torch.tensor(outputs)\n",
    "\n",
    "inputsTrain = inputs[:int(inputs.shape[0] * 0.8)]\n",
    "inputsTrain = F.one_hot(inputsTrain, 27)\n",
    "\n",
    "outputsTrain = outputs[:int(inputs.shape[0] * 0.8)]"
   ]
  },
  {
   "cell_type": "code",
   "execution_count": 11,
   "id": "4fa8716a",
   "metadata": {},
   "outputs": [],
   "source": [
    "weights = torch.rand((27 * inputSize, 200)) * 0.2\n",
    "bias = torch.zeros(200)\n",
    "weights2 = torch.rand((200, 27)) * 0.2\n",
    "bias2 = torch.zeros(27)"
   ]
  },
  {
   "cell_type": "code",
   "execution_count": 15,
   "id": "da70c76d",
   "metadata": {},
   "outputs": [
    {
     "name": "stdout",
     "output_type": "stream",
     "text": [
      "tensor([0.2792, 0.2645, 0.2815, 0.2908, 0.3792, 0.3145, 0.2392, 0.2666, 0.4147,\n",
      "        0.2569])\n"
     ]
    }
   ],
   "source": [
    "batchSize = 32\n",
    "batch = inputsTrain[:batchSize]\n",
    "\n",
    "hiddenLayer = torch.tanh(batch.view((batch.shape[0], 27 * inputSize)).float() @ weights + bias)\n",
    "pred = hiddenLayer @ weights2 + bias2\n",
    "pred = pred.exp()\n",
    "pred /= pred.sum(1, keepdim=True)"
   ]
  }
 ],
 "metadata": {
  "kernelspec": {
   "display_name": "Python 3 (ipykernel)",
   "language": "python",
   "name": "python3"
  },
  "language_info": {
   "codemirror_mode": {
    "name": "ipython",
    "version": 3
   },
   "file_extension": ".py",
   "mimetype": "text/x-python",
   "name": "python",
   "nbconvert_exporter": "python",
   "pygments_lexer": "ipython3",
   "version": "3.11.2"
  }
 },
 "nbformat": 4,
 "nbformat_minor": 5
}
